{
 "cells": [
  {
   "cell_type": "code",
   "execution_count": null,
   "metadata": {},
   "outputs": [],
   "source": [
    "import tensorflow as tf\n",
    "from tensorflow import keras\n",
    "from tensorflow.keras.models import Sequential\n",
    "from tensorflow.keras.preprocessing.image import ImageDataGenerator\n",
    "\n",
    "from sklearn.metrics import classification_report\n",
    "from sklearn.metrics import confusion_matrix\n",
    "\n",
    "from tensorflow.keras.callbacks import EarlyStopping\n",
    "from tensorflow.keras import layers\n",
    "\n",
    "import matplotlib.pyplot as plt\n",
    "import numpy"
   ]
  },
  {
   "cell_type": "code",
   "execution_count": null,
   "metadata": {},
   "outputs": [],
   "source": [
    "#Construct an ImageDataGenerator object:\n",
    "DIRECTORY = \"Covid19-dataset/train\"\n",
    "CLASS_MODE = \"categorical\"\n",
    "COLOR_MODE = \"grayscale\"\n",
    "TARGET_SIZE = (256,256)\n",
    "BATCH_SIZE = 32\n",
    "\n",
    "training_data_generator = ImageDataGenerator(rescale=1.0/255,\n",
    "\n",
    "#Randomly increase or decrease the size of the image by up to 10%\n",
    "zoom_range=0.1, \n",
    "\n",
    "#Randomly rotate the image between -25,25 degrees\n",
    "rotation_range=25, \n",
    "\n",
    "#Shift the image along its width by up to +/- 5%\n",
    "width_shift_range=0.05, \n",
    "\n",
    "#Shift the image along its height by up to +/- 5%\n",
    "height_shift_range=0.05,\n",
    "\n",
    ")\n",
    "\n",
    "validation_data_generator = ImageDataGenerator()"
   ]
  },
  {
   "cell_type": "code",
   "execution_count": null,
   "metadata": {},
   "outputs": [],
   "source": [
    "training_iterator = training_data_generator.flow_from_directory(DIRECTORY,class_mode='categorical',color_mode='grayscale',batch_size=BATCH_SIZE)#, subset='training')\n",
    "\n",
    "training_iterator.next()\n",
    "\n",
    "print(\"\\nLoading validation data...\")\n",
    "\n",
    "\n",
    "validation_iterator = validation_data_generator.flow_from_directory(DIRECTORY,class_mode='categorical', color_mode='grayscale',batch_size=BATCH_SIZE)#, subset='validation')"
   ]
  },
  {
   "cell_type": "code",
   "execution_count": null,
   "metadata": {},
   "outputs": [],
   "source": [
    "#Print its attributes:\n",
    "# print(training_data_generator.__dict__)\n",
    "\n",
    "\n",
    "print(\"\\nBuilding model...\")\n",
    "\n",
    "def design_model(training_data):\n",
    "    # sequential model\n",
    "    model = Sequential()\n",
    "    # add input layer with grayscale image shape\n",
    "    model.add(tf.keras.Input(shape=(256, 256, 1)))\n",
    "    # convolutional hidden layers with relu functions\n",
    "    # maxpooling layers and dropout layers as well\n",
    "    model.add(layers.Conv2D(5, 5, strides=3, activation=\"relu\")) \n",
    "    model.add(layers.MaxPooling2D(\n",
    "        pool_size=(2, 2), strides=(2,2)))\n",
    "    model.add(layers.Dropout(0.1))\n",
    "    model.add(layers.Conv2D(3, 3, strides=1, activation=\"relu\")) \n",
    "    model.add(layers.MaxPooling2D(\n",
    "        pool_size=(2, 2), strides=(2,2)))\n",
    "    model.add(layers.Dropout(0.2))\n",
    "\n",
    "    # experimenting with extra layesr\n",
    "    #model.add(tf.keras.layers.Conv2D(3, 3, strides=1, activation=\"relu\"))\n",
    "    #model.add(tf.keras.layers.Conv2D(1, 1, strides=1, activation=\"relu\"))\n",
    "    #model.add(tf.keras.layers.Dropout(0.1))\n",
    "\n",
    "    model.add(layers.Flatten())\n",
    "    # output layer with softmax activation function\n",
    "    model.add(layers.Dense(3,activation=\"softmax\"))\n",
    "    # compile model with Adam optimizer\n",
    "    # loss function is categorical crossentropy\n",
    "    # metrics are categorical accuracy and AUC\n",
    "    print(\"\\nCompiling model...\")\n",
    "    model.compile(optimizer=tf.keras.optimizers.Adam(learning_rate=.001), loss=tf.keras.losses.CategoricalCrossentropy(), metrics=[tf.keras.metrics.CategoricalAccuracy(),tf.keras.metrics.AUC()],)\n",
    "    # summarize model\n",
    "    model.summary()\n",
    "    return model"
   ]
  },
  {
   "cell_type": "code",
   "execution_count": null,
   "metadata": {},
   "outputs": [],
   "source": [
    "# use model function\n",
    "model = design_model(training_iterator)"
   ]
  },
  {
   "cell_type": "code",
   "execution_count": null,
   "metadata": {},
   "outputs": [],
   "source": [
    "# early stopping implementation\n",
    "es = EarlyStopping(monitor='val_auc', mode='min', verbose=1, patience=20)"
   ]
  },
  {
   "cell_type": "code",
   "execution_count": null,
   "metadata": {},
   "outputs": [],
   "source": [
    "print(\"\\nTraining model...\")\n",
    "# fit the model with 10 ephochs and early stopping\n",
    "history =model.fit(\n",
    "        training_iterator,\n",
    "        steps_per_epoch=training_iterator.samples/BATCH_SIZE, epochs=5,\n",
    "        validation_data=validation_iterator,\n",
    "        validation_steps=validation_iterator.samples/BATCH_SIZE,\n",
    "        callbacks=[es])"
   ]
  },
  {
   "cell_type": "code",
   "execution_count": null,
   "metadata": {},
   "outputs": [],
   "source": [
    "# plotting categorical and validation accuracy over epochs\n",
    "fig = plt.figure()\n",
    "ax1 = fig.add_subplot(2, 1, 1)\n",
    "ax1.plot(history.history['categorical_accuracy'])\n",
    "ax1.plot(history.history['val_categorical_accuracy'])\n",
    "ax1.set_title('model accuracy')\n",
    "ax1.set_xlabel('epoch')\n",
    "ax1.set_ylabel('accuracy')\n",
    "ax1.legend(['train', 'validation'], loc='upper left')\n",
    "\n",
    "# plotting auc and validation auc over epochs\n",
    "ax2 = fig.add_subplot(2, 1, 2)\n",
    "ax2.plot(history.history['auc'])\n",
    "ax2.plot(history.history['val_auc'])\n",
    "ax2.set_title('model auc')\n",
    "ax2.set_xlabel('epoch')\n",
    "ax2.set_ylabel('auc')\n",
    "ax2.legend(['train', 'validation'], loc='upper left')\n",
    "\n",
    "plt.show()"
   ]
  },
  {
   "cell_type": "code",
   "execution_count": null,
   "metadata": {},
   "outputs": [],
   "source": [
    "test_steps_per_epoch = numpy.math.ceil(validation_iterator.samples / validation_iterator.batch_size)\n",
    "predictions = model.predict(validation_iterator, steps=test_steps_per_epoch)\n",
    "test_steps_per_epoch = numpy.math.ceil(validation_iterator.samples / validation_iterator.batch_size)\n",
    "predicted_classes = numpy.argmax(predictions, axis=1)\n",
    "true_classes = validation_iterator.classes\n",
    "class_labels = list(validation_iterator.class_indices.keys())\n",
    "report = classification_report(true_classes, predicted_classes, target_names=class_labels)\n",
    "print(report)   "
   ]
  },
  {
   "cell_type": "code",
   "execution_count": null,
   "metadata": {},
   "outputs": [],
   "source": [
    "cm=confusion_matrix(true_classes,predicted_classes)\n",
    "print(cm)"
   ]
  }
 ],
 "metadata": {
  "kernelspec": {
   "display_name": "Python 3",
   "language": "python",
   "name": "python3"
  },
  "language_info": {
   "codemirror_mode": {
    "name": "ipython",
    "version": 3
   },
   "file_extension": ".py",
   "mimetype": "text/x-python",
   "name": "python",
   "nbconvert_exporter": "python",
   "pygments_lexer": "ipython3",
   "version": "3.7.3"
  }
 },
 "nbformat": 4,
 "nbformat_minor": 2
}
