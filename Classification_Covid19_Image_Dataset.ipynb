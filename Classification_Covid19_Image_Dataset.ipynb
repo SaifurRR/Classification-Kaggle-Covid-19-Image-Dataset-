{
  "cells": [
    {
      "cell_type": "code",
      "execution_count": 34,
      "metadata": {
        "id": "ZTLIMwXDMLFA"
      },
      "outputs": [],
      "source": [
        "import tensorflow as tf\n",
        "from tensorflow import keras\n",
        "from tensorflow.keras.models import Sequential\n",
        "from tensorflow.keras.preprocessing.image import ImageDataGenerator\n",
        "\n",
        "from sklearn.metrics import classification_report\n",
        "from sklearn.metrics import confusion_matrix\n",
        "\n",
        "from tensorflow.keras.callbacks import EarlyStopping\n",
        "from tensorflow.keras import layers\n",
        "\n",
        "import matplotlib.pyplot as plt\n",
        "import numpy"
      ]
    },
    {
      "cell_type": "code",
      "execution_count": 24,
      "metadata": {
        "id": "kdsxhfJQMLFD"
      },
      "outputs": [],
      "source": [
        "#2. Construct an ImageDataGenerator object:\n",
        "DIRECTORY = \"Covid19-dataset/train\"\n",
        "CLASS_MODE = \"categorical\"\n",
        "COLOR_MODE = \"grayscale\"\n",
        "TARGET_SIZE = (256,256)\n",
        "BATCH_SIZE = 32\n",
        "\n",
        "training_data_generator = ImageDataGenerator(rescale=1.0/255,\n",
        "\n",
        "#Randomly increase or decrease the size of the image by up to 10%\n",
        "zoom_range=0.1,\n",
        "\n",
        "#Randomly rotate the image between -25,25 degrees\n",
        "rotation_range=25,\n",
        "\n",
        "#Shift the image along its width by up to +/- 5%\n",
        "width_shift_range=0.05,\n",
        "\n",
        "#Shift the image along its height by up to +/- 5%\n",
        "height_shift_range=0.05,\n",
        "\n",
        ")\n",
        "\n",
        "validation_data_generator = ImageDataGenerator()"
      ]
    },
    {
      "cell_type": "code",
      "execution_count": 25,
      "metadata": {
        "colab": {
          "base_uri": "https://localhost:8080/"
        },
        "id": "zZD2P0BDMLFE",
        "outputId": "5fa7f2e5-6cf3-4a97-bec3-55811f215950"
      },
      "outputs": [
        {
          "output_type": "stream",
          "name": "stdout",
          "text": [
            "Found 251 images belonging to 3 classes.\n",
            "\n",
            "Loading validation data...\n",
            "Found 251 images belonging to 3 classes.\n"
          ]
        }
      ],
      "source": [
        "#3.\n",
        "training_iterator = training_data_generator.flow_from_directory(DIRECTORY,class_mode='categorical',color_mode='grayscale',batch_size=BATCH_SIZE)#, subset='training')\n",
        "\n",
        "training_iterator.next()\n",
        "\n",
        "print(\"\\nLoading validation data...\")\n",
        "\n",
        "\n",
        "validation_iterator = validation_data_generator.flow_from_directory(DIRECTORY,class_mode='categorical', color_mode='grayscale',batch_size=BATCH_SIZE)#, subset='validation')"
      ]
    },
    {
      "cell_type": "code",
      "execution_count": 26,
      "metadata": {
        "colab": {
          "base_uri": "https://localhost:8080/"
        },
        "id": "tj8BXhPWMLFE",
        "outputId": "0cb0728f-6f5b-4351-cac5-74fe2e91b051"
      },
      "outputs": [
        {
          "output_type": "stream",
          "name": "stdout",
          "text": [
            "\n",
            "Building model...\n"
          ]
        }
      ],
      "source": [
        "#Print its attributes:\n",
        "# print(training_data_generator.__dict__)\n",
        "\n",
        "\n",
        "print(\"\\nBuilding model...\")\n",
        "\n",
        "def design_model(training_data):\n",
        "    # sequential model\n",
        "    model = Sequential()\n",
        "    # add input layer with grayscale image shape\n",
        "    model.add(tf.keras.Input(shape=(256, 256, 1)))\n",
        "    # convolutional hidden layers with relu functions\n",
        "    # maxpooling layers and dropout layers as well\n",
        "    model.add(layers.Conv2D(5, 5, strides=3, activation=\"relu\"))\n",
        "    model.add(layers.MaxPooling2D(\n",
        "        pool_size=(2, 2), strides=(2,2)))\n",
        "    model.add(layers.Dropout(0.1))\n",
        "    model.add(layers.Conv2D(3, 3, strides=1, activation=\"relu\"))\n",
        "    model.add(layers.MaxPooling2D(\n",
        "        pool_size=(2, 2), strides=(2,2)))\n",
        "    model.add(layers.Dropout(0.2))\n",
        "\n",
        "    # experimenting with extra layesr\n",
        "    #model.add(tf.keras.layers.Conv2D(3, 3, strides=1, activation=\"relu\"))\n",
        "    #model.add(tf.keras.layers.Conv2D(1, 1, strides=1, activation=\"relu\"))\n",
        "    #model.add(tf.keras.layers.Dropout(0.1))\n",
        "\n",
        "    model.add(layers.Flatten())\n",
        "    # output layer with softmax activation function\n",
        "    model.add(layers.Dense(3,activation=\"softmax\"))\n",
        "    # compile model with Adam optimizer\n",
        "    # loss function is categorical crossentropy\n",
        "    # metrics are categorical accuracy and AUC\n",
        "    print(\"\\nCompiling model...\")\n",
        "    model.compile(optimizer=tf.keras.optimizers.Adam(learning_rate=.001), loss=tf.keras.losses.CategoricalCrossentropy(), metrics=[tf.keras.metrics.CategoricalAccuracy(),tf.keras.metrics.AUC()],)\n",
        "    # summarize model\n",
        "    model.summary()\n",
        "    return model"
      ]
    },
    {
      "cell_type": "code",
      "source": [
        "from google.colab import drive\n",
        "drive.mount('/content/drive')"
      ],
      "metadata": {
        "colab": {
          "base_uri": "https://localhost:8080/"
        },
        "id": "J9jmv9ZjNUfx",
        "outputId": "dacdc89b-7550-45cd-a2e2-02833e302bc6"
      },
      "execution_count": 27,
      "outputs": [
        {
          "output_type": "stream",
          "name": "stdout",
          "text": [
            "Drive already mounted at /content/drive; to attempt to forcibly remount, call drive.mount(\"/content/drive\", force_remount=True).\n"
          ]
        }
      ]
    },
    {
      "cell_type": "code",
      "execution_count": 28,
      "metadata": {
        "colab": {
          "base_uri": "https://localhost:8080/"
        },
        "id": "w88rApcBMLFF",
        "outputId": "f95e7085-d590-4702-e02c-d1cb5a1ba39a"
      },
      "outputs": [
        {
          "output_type": "stream",
          "name": "stdout",
          "text": [
            "\n",
            "Compiling model...\n",
            "Model: \"sequential\"\n",
            "_________________________________________________________________\n",
            " Layer (type)                Output Shape              Param #   \n",
            "=================================================================\n",
            " conv2d (Conv2D)             (None, 84, 84, 5)         130       \n",
            "                                                                 \n",
            " max_pooling2d (MaxPooling2  (None, 42, 42, 5)         0         \n",
            " D)                                                              \n",
            "                                                                 \n",
            " dropout (Dropout)           (None, 42, 42, 5)         0         \n",
            "                                                                 \n",
            " conv2d_1 (Conv2D)           (None, 40, 40, 3)         138       \n",
            "                                                                 \n",
            " max_pooling2d_1 (MaxPoolin  (None, 20, 20, 3)         0         \n",
            " g2D)                                                            \n",
            "                                                                 \n",
            " dropout_1 (Dropout)         (None, 20, 20, 3)         0         \n",
            "                                                                 \n",
            " flatten (Flatten)           (None, 1200)              0         \n",
            "                                                                 \n",
            " dense (Dense)               (None, 3)                 3603      \n",
            "                                                                 \n",
            "=================================================================\n",
            "Total params: 3871 (15.12 KB)\n",
            "Trainable params: 3871 (15.12 KB)\n",
            "Non-trainable params: 0 (0.00 Byte)\n",
            "_________________________________________________________________\n"
          ]
        }
      ],
      "source": [
        "# use model function\n",
        "model = design_model(training_iterator)"
      ]
    },
    {
      "cell_type": "code",
      "execution_count": 29,
      "metadata": {
        "id": "Vx2whIIzMLFF"
      },
      "outputs": [],
      "source": [
        "# early stopping implementation\n",
        "es = EarlyStopping(monitor='val_auc', mode='min', verbose=1, patience=20)"
      ]
    },
    {
      "cell_type": "code",
      "execution_count": 30,
      "metadata": {
        "colab": {
          "base_uri": "https://localhost:8080/"
        },
        "id": "oiusHwIMMLFF",
        "outputId": "bb8003e8-51e5-4349-a46e-6b6cc0b54557"
      },
      "outputs": [
        {
          "output_type": "stream",
          "name": "stdout",
          "text": [
            "\n",
            "Training model...\n",
            "Epoch 1/5\n",
            "7/7 [==============================] - 47s 6s/step - loss: 1.1015 - categorical_accuracy: 0.3506 - auc: 0.4962 - val_loss: 18.7838 - val_categorical_accuracy: 0.4382 - val_auc: 0.5794\n",
            "Epoch 2/5\n",
            "7/7 [==============================] - 20s 3s/step - loss: 1.0761 - categorical_accuracy: 0.4422 - auc: 0.6144 - val_loss: 35.0125 - val_categorical_accuracy: 0.4422 - val_auc: 0.5817\n",
            "Epoch 3/5\n",
            "7/7 [==============================] - 20s 3s/step - loss: 1.0614 - categorical_accuracy: 0.4422 - auc: 0.6292 - val_loss: 48.8312 - val_categorical_accuracy: 0.4422 - val_auc: 0.5817\n",
            "Epoch 4/5\n",
            "7/7 [==============================] - 19s 3s/step - loss: 1.0342 - categorical_accuracy: 0.4422 - auc: 0.6821 - val_loss: 52.8231 - val_categorical_accuracy: 0.4422 - val_auc: 0.5817\n",
            "Epoch 5/5\n",
            "7/7 [==============================] - 16s 2s/step - loss: 0.9694 - categorical_accuracy: 0.4940 - auc: 0.7531 - val_loss: 23.9873 - val_categorical_accuracy: 0.5618 - val_auc: 0.6804\n"
          ]
        }
      ],
      "source": [
        "print(\"\\nTraining model...\")\n",
        "# fit the model with 10 ephochs and early stopping\n",
        "history =model.fit(\n",
        "        training_iterator,\n",
        "        steps_per_epoch=training_iterator.samples/BATCH_SIZE, epochs=5,\n",
        "        validation_data=validation_iterator,\n",
        "        validation_steps=validation_iterator.samples/BATCH_SIZE,\n",
        "        callbacks=[es])"
      ]
    },
    {
      "cell_type": "code",
      "execution_count": 33,
      "metadata": {
        "colab": {
          "base_uri": "https://localhost:8080/",
          "height": 486
        },
        "id": "8pRXDrAyMLFG",
        "outputId": "6da8efd9-90f0-4f1e-db26-94da06927346"
      },
      "outputs": [
        {
          "output_type": "display_data",
          "data": {
            "text/plain": [
              "<Figure size 640x480 with 2 Axes>"
            ],
            "image/png": "[encoded data removed]"
          },
          "metadata": {}
        }
      ],
      "source": [
        "# plotting categorical and validation accuracy over epochs\n",
        "fig = plt.figure()\n",
        "ax1 = fig.add_subplot(2, 1, 1)\n",
        "ax1.plot(history.history['categorical_accuracy'])\n",
        "ax1.plot(history.history['val_categorical_accuracy'])\n",
        "ax1.set_title('model accuracy')\n",
        "ax1.set_xlabel('epoch')\n",
        "ax1.set_ylabel('accuracy')\n",
        "ax1.legend(['train', 'validation'], loc='upper left')\n",
        "\n",
        "# plotting auc and validation auc over epochs\n",
        "ax2 = fig.add_subplot(2, 1, 2)\n",
        "ax2.plot(history.history['auc'])\n",
        "ax2.plot(history.history['val_auc'])\n",
        "ax2.set_title('model auc')\n",
        "ax2.set_xlabel('epoch')\n",
        "ax2.set_ylabel('auc')\n",
        "ax2.legend(['train', 'validation'], loc='upper left')\n",
        "\n",
        "plt.tight_layout()\n",
        "plt.show()"
      ]
    },
    {
      "cell_type": "code",
      "execution_count": 35,
      "metadata": {
        "colab": {
          "base_uri": "https://localhost:8080/"
        },
        "id": "99B9SzwFMLFG",
        "outputId": "811cb0c3-1ab6-465b-f114-9e7dbf7bde90"
      },
      "outputs": [
        {
          "output_type": "stream",
          "name": "stdout",
          "text": [
            "8/8 [==============================] - 9s 1s/step\n",
            "                 precision    recall  f1-score   support\n",
            "\n",
            "          Covid       0.43      0.84      0.57       111\n",
            "         Normal       0.30      0.04      0.07        70\n",
            "Viral Pneumonia       0.23      0.09      0.13        70\n",
            "\n",
            "       accuracy                           0.41       251\n",
            "      macro avg       0.32      0.32      0.26       251\n",
            "   weighted avg       0.34      0.41      0.31       251\n",
            "\n"
          ]
        }
      ],
      "source": [
        "test_steps_per_epoch = numpy.math.ceil(validation_iterator.samples / validation_iterator.batch_size)\n",
        "predictions = model.predict(validation_iterator, steps=test_steps_per_epoch)\n",
        "test_steps_per_epoch = numpy.math.ceil(validation_iterator.samples / validation_iterator.batch_size)\n",
        "predicted_classes = numpy.argmax(predictions, axis=1)\n",
        "true_classes = validation_iterator.classes\n",
        "class_labels = list(validation_iterator.class_indices.keys())\n",
        "report = classification_report(true_classes, predicted_classes, target_names=class_labels)\n",
        "print(report)"
      ]
    },
    {
      "cell_type": "code",
      "execution_count": 36,
      "metadata": {
        "colab": {
          "base_uri": "https://localhost:8080/"
        },
        "id": "pbRzViGWMLFG",
        "outputId": "67e597f7-df10-4b0c-c41f-69431e160d61"
      },
      "outputs": [
        {
          "output_type": "stream",
          "name": "stdout",
          "text": [
            "[[93  5 13]\n",
            " [60  3  7]\n",
            " [62  2  6]]\n"
          ]
        }
      ],
      "source": [
        "cm=confusion_matrix(true_classes,predicted_classes)\n",
        "print(cm)"
      ]
    },
    {
      "cell_type": "code",
      "source": [],
      "metadata": {
        "id": "0ttGfrG8QDFH"
      },
      "execution_count": null,
      "outputs": []
    }
  ],
  "metadata": {
    "kernelspec": {
      "display_name": "Python 3",
      "language": "python",
      "name": "python3"
    },
    "language_info": {
      "codemirror_mode": {
        "name": "ipython",
        "version": 3
      },
      "file_extension": ".py",
      "mimetype": "text/x-python",
      "name": "python",
      "nbconvert_exporter": "python",
      "pygments_lexer": "ipython3",
      "version": "3.8.8"
    },
    "colab": {
      "provenance": []
    }
  },
  "nbformat": 4,
  "nbformat_minor": 0
}